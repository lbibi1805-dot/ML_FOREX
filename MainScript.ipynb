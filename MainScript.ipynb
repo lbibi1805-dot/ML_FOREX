{
 "cells": [
  {
   "cell_type": "markdown",
   "metadata": {},
   "source": [
    "# **STEP 0: IMPORT LIBRARIES**"
   ]
  },
  {
   "cell_type": "code",
   "execution_count": 1,
   "metadata": {},
   "outputs": [],
   "source": [
    "import pandas as pd\n",
    "import numpy as np\n",
    "import matplotlib.pyplot as plt\n",
    "from sklearn.base import BaseEstimator, TransformerMixin\n",
    "from sklearn.pipeline import FeatureUnion\n",
    "from sklearn.pipeline import Pipeline\n",
    "from sklearn.preprocessing import StandardScaler\n",
    "from sklearn.impute import SimpleImputer  \n",
    "from sklearn.preprocessing import OneHotEncoder      \n",
    "from sklearn.model_selection import KFold   \n",
    "from sklearn.decomposition import PCA\n",
    "from sklearn.feature_selection import mutual_info_regression\n",
    "from statistics import mean\n",
    "from sklearn.model_selection import train_test_split\n",
    "import joblib \n",
    "import lightgbm as lgb\n",
    "from xgboost import XGBRegressor\n",
    "from sklearn.tree import DecisionTreeRegressor\n",
    "from sklearn.preprocessing import PolynomialFeatures\n",
    "from sklearn.linear_model import LinearRegression\n",
    "from sklearn.ensemble import RandomForestRegressor\n",
    "from sklearn.neighbors import KNeighborsRegressor\n",
    "from sklearn.svm import SVR\n",
    "from sklearn.metrics import mean_squared_error, r2_score\n",
    "from sklearn.model_selection import cross_val_score\n",
    "from sklearn.model_selection import ShuffleSplit, StratifiedKFold, StratifiedShuffleSplit\n",
    "from sklearn.model_selection import cross_val_predict\n",
    "from sklearn.model_selection import KFold, StratifiedKFold\n",
    "\n",
    "# Additional useful imports\n",
    "from sklearn.model_selection import GridSearchCV, RandomizedSearchCV\n",
    "from sklearn.ensemble import GradientBoostingRegressor\n",
    "from sklearn.preprocessing import LabelEncoder\n",
    "from sklearn.compose import ColumnTransformer\n",
    "from sklearn.impute import KNNImputer\n",
    "from sklearn.experimental import enable_iterative_imputer\n",
    "from sklearn.impute import IterativeImputer\n",
    "from sklearn.feature_selection import SelectKBest, f_regression\n",
    "from sklearn.model_selection import learning_curve\n",
    "from sklearn.inspection import permutation_importance\n",
    "from sklearn.metrics import mean_absolute_error, median_absolute_error\n",
    "import seaborn as sns\n",
    "from scipy import stats\n",
    "import warnings\n",
    "import os\n",
    "import yfinance as yf\n",
    "import ta            #technical"
   ]
  },
  {
   "cell_type": "markdown",
   "metadata": {},
   "source": [
    "#   **STEP 1: PRE-PROCESS DATA:**"
   ]
  },
  {
   "cell_type": "markdown",
   "metadata": {},
   "source": [
    "**1.1. Load historical Forex data**\n"
   ]
  },
  {
   "cell_type": "markdown",
   "metadata": {},
   "source": [
    "**NOTE**:\n",
    "- **Date Format**: DD/MM/YY. (FOR 1 MINUTE INTERVAL: YYYY-MM-DD HH:MM:SS)\n",
    "- **Interval**: 1d = 1 day, 1m = 1 minutes (YAHOO FINANCE ONLY SUPPLY DATA FOR THE LAST **7 DAYS** OF 1 MINUTE INTERVAL DATA) "
   ]
  },
  {
   "cell_type": "markdown",
   "metadata": {},
   "source": [
    "**MY API KEY**"
   ]
  },
  {
   "cell_type": "code",
   "execution_count": 2,
   "metadata": {},
   "outputs": [
    {
     "name": "stderr",
     "output_type": "stream",
     "text": [
      "[*********************100%***********************]  1 of 1 completed\n"
     ]
    },
    {
     "name": "stdout",
     "output_type": "stream",
     "text": [
      "                Datetime        Open        High         Low       Close  \\\n",
      "0    2024-09-10 00:00:00  157.878006  157.942001  157.878006  157.938004   \n",
      "1    2024-09-10 00:01:00  157.936996  157.947006  157.921005  157.947006   \n",
      "2    2024-09-10 00:02:00  157.945999  157.951996  157.908997  157.923004   \n",
      "3    2024-09-10 00:03:00  157.921997  157.934006  157.917999  157.919998   \n",
      "4    2024-09-10 00:04:00  157.919998  157.923996  157.904007  157.910004   \n",
      "..                   ...         ...         ...         ...         ...   \n",
      "995  2024-09-10 16:40:00  157.112000  157.117004  157.085999  157.098999   \n",
      "996  2024-09-10 16:41:00  157.095993  157.102005  157.082001  157.097000   \n",
      "997  2024-09-10 16:42:00  157.093994  157.098007  157.011993  157.037003   \n",
      "998  2024-09-10 16:43:00  157.035004  157.046005  157.011993  157.035995   \n",
      "999  2024-09-10 16:44:00  157.035004  157.035004  157.011002  157.018005   \n",
      "\n",
      "      Adj Close  Volume  \n",
      "0    157.938004       0  \n",
      "1    157.947006       0  \n",
      "2    157.923004       0  \n",
      "3    157.919998       0  \n",
      "4    157.910004       0  \n",
      "..          ...     ...  \n",
      "995  157.098999       0  \n",
      "996  157.097000       0  \n",
      "997  157.037003       0  \n",
      "998  157.035995       0  \n",
      "999  157.018005       0  \n",
      "\n",
      "[1000 rows x 7 columns]\n"
     ]
    }
   ],
   "source": [
    "data = yf.download('EURJPY=X', start = '2024-09-10', end = '2024-09-17', interval='1m') \n",
    "data.reset_index(inplace=True)\n",
    "\n",
    "\n",
    "# Format the DateTime column\n",
    "data['Datetime'] = data['Datetime'].dt.strftime('%Y-%m-%d %H:%M:%S')\n",
    "\n",
    "#display the data:\n",
    "print(data.head(1000))\n",
    "\n",
    "# Directory path\n",
    "directory = r'TEST_API'\n",
    "\n",
    "# Create the directory if it doesn't exist\n",
    "if not os.path.exists(directory):\n",
    "    os.makedirs(directory)\n",
    "\n",
    "# Save the DataFrame to a CSV file\n",
    "file_path = os.path.join(directory, 'EURJPY_data_price.csv')\n",
    "data.to_csv(file_path, index=False)"
   ]
  }
 ],
 "metadata": {
  "kernelspec": {
   "display_name": "base",
   "language": "python",
   "name": "python3"
  },
  "language_info": {
   "codemirror_mode": {
    "name": "ipython",
    "version": 3
   },
   "file_extension": ".py",
   "mimetype": "text/x-python",
   "name": "python",
   "nbconvert_exporter": "python",
   "pygments_lexer": "ipython3",
   "version": "3.12.4"
  }
 },
 "nbformat": 4,
 "nbformat_minor": 2
}
