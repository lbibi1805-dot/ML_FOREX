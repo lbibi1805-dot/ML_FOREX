{
 "cells": [
  {
   "cell_type": "markdown",
   "metadata": {},
   "source": [
    "# **STEP 0: IMPORT LIBRARIES**"
   ]
  },
  {
   "cell_type": "code",
   "execution_count": 140,
   "metadata": {},
   "outputs": [],
   "source": [
    "import pandas as pd\n",
    "import numpy as np\n",
    "import matplotlib.pyplot as plt\n",
    "from sklearn.base import BaseEstimator, TransformerMixin\n",
    "from sklearn.pipeline import FeatureUnion\n",
    "from sklearn.pipeline import Pipeline\n",
    "from sklearn.preprocessing import StandardScaler\n",
    "from sklearn.impute import SimpleImputer  \n",
    "from sklearn.preprocessing import OneHotEncoder      \n",
    "from sklearn.model_selection import KFold   \n",
    "from sklearn.decomposition import PCA\n",
    "from sklearn.feature_selection import mutual_info_regression\n",
    "from statistics import mean\n",
    "from sklearn.model_selection import train_test_split\n",
    "import joblib \n",
    "import lightgbm as lgb\n",
    "from xgboost import XGBRegressor\n",
    "from sklearn.tree import DecisionTreeRegressor\n",
    "from sklearn.preprocessing import PolynomialFeatures\n",
    "from sklearn.linear_model import LinearRegression\n",
    "from sklearn.ensemble import RandomForestRegressor\n",
    "from sklearn.neighbors import KNeighborsRegressor\n",
    "from sklearn.svm import SVR\n",
    "from sklearn.metrics import mean_squared_error, r2_score\n",
    "from sklearn.model_selection import cross_val_score\n",
    "from sklearn.model_selection import ShuffleSplit, StratifiedKFold, StratifiedShuffleSplit\n",
    "from sklearn.model_selection import cross_val_predict\n",
    "from sklearn.model_selection import KFold, StratifiedKFold\n",
    "\n",
    "# Additional useful imports\n",
    "from sklearn.model_selection import GridSearchCV, RandomizedSearchCV\n",
    "from sklearn.ensemble import GradientBoostingRegressor\n",
    "from sklearn.preprocessing import LabelEncoder\n",
    "from sklearn.compose import ColumnTransformer\n",
    "from sklearn.impute import KNNImputer\n",
    "from sklearn.experimental import enable_iterative_imputer\n",
    "from sklearn.impute import IterativeImputer\n",
    "from sklearn.feature_selection import SelectKBest, f_regression\n",
    "from sklearn.model_selection import learning_curve\n",
    "from sklearn.inspection import permutation_importance\n",
    "from sklearn.metrics import mean_absolute_error, median_absolute_error\n",
    "import seaborn as sns\n",
    "from scipy import stats\n",
    "import warnings\n",
    "import os\n",
    "import yfinance as yf\n",
    "import ta"
   ]
  },
  {
   "cell_type": "markdown",
   "metadata": {},
   "source": [
    "# **STEP 1: DEFINE LABLE**"
   ]
  },
  {
   "cell_type": "code",
   "execution_count": 141,
   "metadata": {},
   "outputs": [],
   "source": [
    "forex_label = ['GBPJPY=X'] # You can update by adding more"
   ]
  },
  {
   "cell_type": "markdown",
   "metadata": {},
   "source": [
    "# **STEP 2: GET FOREX DATA CRAWLING**"
   ]
  },
  {
   "cell_type": "markdown",
   "metadata": {},
   "source": [
    "**2.1: Crawl all FOREX data needed**"
   ]
  },
  {
   "cell_type": "markdown",
   "metadata": {},
   "source": [
    "**2.1.1. Function to crawl Forex data**"
   ]
  },
  {
   "cell_type": "code",
   "execution_count": 142,
   "metadata": {},
   "outputs": [],
   "source": [
    "def crawl_forex_data(forex_pair, directory='Dataset'):\n",
    "    \"\"\"\n",
    "    Crawls historical data for a given Forex pair and saves it to a CSV file.\n",
    "\n",
    "    Parameters:\n",
    "    forex_pair (str): The Forex pair symbol to download data for (e.g., 'EURUSD=X').\n",
    "    directory (str): The directory where the data should be saved.\n",
    "\n",
    "    Returns:\n",
    "    str: Path to the saved CSV file.\n",
    "    pd.DataFrame: The crawled data as a Pandas DataFrame.\n",
    "    \"\"\"\n",
    "    # Create directory if it doesn't exist\n",
    "    if not os.path.exists(directory):\n",
    "        os.makedirs(directory)\n",
    "\n",
    "    # Download historical data for the Forex pair\n",
    "    print(f\"Downloading data for {forex_pair}...\")\n",
    "    data = yf.download(forex_pair, period=\"max\", interval='1d')\n",
    "    data.reset_index(inplace=True)  # Reset index to ensure 'Date' is a normal column\n",
    "\n",
    "    # Save data to CSV\n",
    "    file_path = os.path.join(directory, f'{forex_pair}_data.csv')\n",
    "    data.to_csv(file_path, index=False)\n",
    "    print(f\"Saved data for {forex_pair} at {file_path}\")\n",
    "\n",
    "    return file_path, data"
   ]
  },
  {
   "cell_type": "markdown",
   "metadata": {},
   "source": [
    "**2.2. Check crawling result**"
   ]
  },
  {
   "cell_type": "code",
   "execution_count": null,
   "metadata": {},
   "outputs": [],
   "source": [
    "file_path, data = crawl_forex_data(forex_label)\n",
    "print(data.head(10))    "
   ]
  },
  {
   "cell_type": "markdown",
   "metadata": {},
   "source": [
    "**STEP 3: FEATURE ENGINEERING**"
   ]
  },
  {
   "cell_type": "code",
   "execution_count": null,
   "metadata": {},
   "outputs": [],
   "source": [
    "# Feature Engineering\n",
    "# Calculate moving averages\n",
    "data['MA_10'] = data['Close'].rolling(window=10).mean()\n",
    "data['MA_50'] = data['Close'].rolling(window=50).mean()\n",
    "data['MA_200'] = data['Close'].rolling(window=200).mean()\n",
    "\n",
    "# Calculate RSI\n",
    "data['RSI'] = ta.momentum.RSIIndicator(data['Close'], window=14).rsi()\n",
    "\n",
    "# Calculate MACD\n",
    "data['MACD'] = ta.trend.MACD(data['Close']).macd()\n",
    "\n",
    "# Calculate Bollinger Bands\n",
    "bollinger = ta.volatility.BollingerBands(data['Close'])\n",
    "data['BB_High'] = bollinger.bollinger_hband()\n",
    "data['BB_Low'] = bollinger.bollinger_lband()\n",
    "\n",
    "# Calculate Bollinger BandWidth (BBTrend)\n",
    "data['BB_Width'] = (data['BB_High'] - data['BB_Low']) / data['Close']\n",
    "\n",
    "# 24-hour Volume\n",
    "data['Volume_24h'] = data['Volume'].rolling(window=1440).sum()\n",
    "\n",
    "# Accumulation/Distribution Line (ADL)\n",
    "data['ADL'] = ta.volume.AccDistIndexIndicator(data['High'], data['Low'], data['Close'], data['Volume']).acc_dist_index()\n",
    "\n",
    "# Aroon Indicator\n",
    "aroon = ta.trend.AroonIndicator(data['Close'], data['Low'], window=25)\n",
    "data['Aroon_Up'] = aroon.aroon_up()\n",
    "data['Aroon_Down'] = aroon.aroon_down()\n",
    "\n",
    "\n",
    "# Average Directional Index (ADX)\n",
    "data['ADX'] = ta.trend.ADXIndicator(data['High'], data['Low'], data['Close'], window=14).adx()\n",
    "\n",
    "# Average True Range (ATR)\n",
    "data['ATR'] = ta.volatility.AverageTrueRange(data['High'], data['Low'], data['Close'], window=14).average_true_range()\n",
    "\n",
    "# Awesome Oscillator (AO)\n",
    "data['AO'] = ta.momentum.AwesomeOscillatorIndicator(data['High'], data['Low'], window1=5, window2=34).awesome_oscillator()\n",
    "\n",
    "# Balance of Power (BOP)\n",
    "data['BOP'] = (data['Close'] - data['Open']) / (data['High'] - data['Low'])\n",
    "\n",
    "# Bull Bear Power\n",
    "data['Bull_Power'] = data['High'] - data['MA_50']\n",
    "data['Bear_Power'] = data['Low'] - data['MA_50']\n",
    "\n",
    "# Chaikin Money Flow (CMF)\n",
    "data['CMF'] = ta.volume.ChaikinMoneyFlowIndicator(data['High'], data['Low'], data['Close'], data['Volume'], window=20).chaikin_money_flow()\n",
    "\n",
    "# Chaikin Oscillator\n",
    "data['Chaikin_Osc'] = data['ADL'].ewm(span=3).mean() - data['ADL'].ewm(span=10).mean()\n",
    "\n",
    "# Stochastic Oscillator (Stoch)\n",
    "\n",
    "stoch = ta.momentum.StochasticOscillator(data['High'], data['Low'], data['Close'], window=14)\n",
    "data['Stoch_Osc'] = stoch.stoch()\n",
    "\n",
    "# Commodity Channel Index (CCI)\n",
    "data['CCI'] = ta.trend.CCIIndicator(data['High'], data['Low'], data['Close'], window=20).cci()\n",
    "\n",
    "# Vortex Oscillator\n",
    "vortex = ta.trend.VortexIndicator(data['High'], data['Low'], data['Close'], window=14)\n",
    "data['Vortex_Plus'] = vortex.vortex_indicator_pos()\n",
    "data['Vortex_Minus'] = vortex.vortex_indicator_neg()\n",
    "\n",
    "# Drop rows with NaN values (due to moving averages and indicators)\n",
    "data.dropna(inplace=True)\n",
    "print(data.head(100))\n",
    "print(\"Add columns to dataframe\")"
   ]
  },
  {
   "cell_type": "code",
   "execution_count": 145,
   "metadata": {},
   "outputs": [],
   "source": [
    "# List of indicators to plot\n",
    "indicators = [\n",
    "    'MA_10', 'MA_50', 'MA_200',\n",
    "    'RSI', 'MACD',\n",
    "    'BB_High', 'BB_Low',\n",
    "    'ADX', 'ATR', 'AO',\n",
    "    'BOP', 'Bull_Power', 'Bear_Power',\n",
    "    'CMF', 'Chaikin_Osc',\n",
    "    'Stoch_Osc', 'CCI',\n",
    "    'Vortex_Plus', 'Vortex_Minus'\n",
    "    ]"
   ]
  },
  {
   "cell_type": "markdown",
   "metadata": {},
   "source": [
    "**STEP 4: PLOTTING FOR EVALUATION**"
   ]
  },
  {
   "cell_type": "markdown",
   "metadata": {},
   "source": [
    "**Function to plot year data**"
   ]
  },
  {
   "cell_type": "code",
   "execution_count": 146,
   "metadata": {},
   "outputs": [],
   "source": [
    "def plot_yearly_data(data, title='Yearly Price Data'):\n",
    "    plt.figure(figsize=(14, 7))\n",
    "    plt.plot(data['Date'], data['Close'], label='Close Price', color='blue')\n",
    "    plt.title(title)\n",
    "    plt.xlabel('Date')\n",
    "    plt.ylabel('Price')\n",
    "    plt.legend()\n",
    "    plt.grid()\n",
    "    plt.show()"
   ]
  },
  {
   "cell_type": "markdown",
   "metadata": {},
   "source": [
    "**Functions to plot prices vs indicators**"
   ]
  },
  {
   "cell_type": "code",
   "execution_count": 147,
   "metadata": {},
   "outputs": [],
   "source": [
    "def plot_prices_vs_indicators(data, indicator, title):\n",
    "    plt.figure(figsize=(14, 7))\n",
    "    plt.plot(data['Date'], data['Close'], label='Close Price', color='blue')\n",
    "    plt.plot(data['Date'], data[indicator], label=indicator, color='orange')\n",
    "    plt.title(title)\n",
    "    plt.xlabel('Date')\n",
    "    plt.ylabel('Price / Indicator Value')\n",
    "    plt.legend()\n",
    "    plt.grid()\n",
    "    plt.show()"
   ]
  },
  {
   "cell_type": "markdown",
   "metadata": {},
   "source": [
    "**Plot out all plots for evaluating**"
   ]
  },
  {
   "cell_type": "code",
   "execution_count": null,
   "metadata": {},
   "outputs": [],
   "source": [
    "# Plot yearly data\n",
    "plot_yearly_data(data)\n",
    "\n",
    "# Plot Close Price vs each indicator\n",
    "for indicator in indicators:\n",
    "    if indicator in data.columns:  # Check if the indicator exists\n",
    "        plot_prices_vs_indicators(data, indicator, f'Close Price vs {indicator}')"
   ]
  }
 ],
 "metadata": {
  "kernelspec": {
   "display_name": "base",
   "language": "python",
   "name": "python3"
  },
  "language_info": {
   "codemirror_mode": {
    "name": "ipython",
    "version": 3
   },
   "file_extension": ".py",
   "mimetype": "text/x-python",
   "name": "python",
   "nbconvert_exporter": "python",
   "pygments_lexer": "ipython3",
   "version": "3.12.4"
  }
 },
 "nbformat": 4,
 "nbformat_minor": 2
}
