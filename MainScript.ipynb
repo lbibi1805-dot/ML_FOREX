{
 "cells": [
  {
   "cell_type": "markdown",
   "metadata": {},
   "source": [
    "# **STEP 0: IMPORT LIBRARIES**"
   ]
  },
  {
   "cell_type": "code",
   "execution_count": 11,
   "metadata": {},
   "outputs": [],
   "source": [
    "import pandas as pd\n",
    "import numpy as np\n",
    "import matplotlib.pyplot as plt\n",
    "from sklearn.base import BaseEstimator, TransformerMixin\n",
    "from sklearn.pipeline import FeatureUnion\n",
    "from sklearn.pipeline import Pipeline\n",
    "from sklearn.preprocessing import StandardScaler\n",
    "from sklearn.impute import SimpleImputer  \n",
    "from sklearn.preprocessing import OneHotEncoder      \n",
    "from sklearn.model_selection import KFold   \n",
    "from sklearn.decomposition import PCA\n",
    "from sklearn.feature_selection import mutual_info_regression\n",
    "from statistics import mean\n",
    "from sklearn.model_selection import train_test_split\n",
    "import joblib \n",
    "import lightgbm as lgb\n",
    "from xgboost import XGBRegressor\n",
    "from sklearn.tree import DecisionTreeRegressor\n",
    "from sklearn.preprocessing import PolynomialFeatures\n",
    "from sklearn.linear_model import LinearRegression\n",
    "from sklearn.ensemble import RandomForestRegressor\n",
    "from sklearn.neighbors import KNeighborsRegressor\n",
    "from sklearn.svm import SVR\n",
    "from sklearn.metrics import mean_squared_error, r2_score\n",
    "from sklearn.model_selection import cross_val_score\n",
    "from sklearn.model_selection import ShuffleSplit, StratifiedKFold, StratifiedShuffleSplit\n",
    "from sklearn.model_selection import cross_val_predict\n",
    "from sklearn.model_selection import KFold, StratifiedKFold\n",
    "\n",
    "# Additional useful imports\n",
    "from sklearn.model_selection import GridSearchCV, RandomizedSearchCV\n",
    "from sklearn.ensemble import GradientBoostingRegressor\n",
    "from sklearn.preprocessing import LabelEncoder\n",
    "from sklearn.compose import ColumnTransformer\n",
    "from sklearn.impute import KNNImputer\n",
    "from sklearn.experimental import enable_iterative_imputer\n",
    "from sklearn.impute import IterativeImputer\n",
    "from sklearn.feature_selection import SelectKBest, f_regression\n",
    "from sklearn.model_selection import learning_curve\n",
    "from sklearn.inspection import permutation_importance\n",
    "from sklearn.metrics import mean_absolute_error, median_absolute_error\n",
    "import seaborn as sns\n",
    "from scipy import stats\n",
    "import warnings\n",
    "import os\n",
    "import yfinance as yf\n",
    "import ta            #technical"
   ]
  },
  {
   "cell_type": "markdown",
   "metadata": {},
   "source": [
    "#   **STEP 1: PRE-PROCESS DATA:**"
   ]
  },
  {
   "cell_type": "markdown",
   "metadata": {},
   "source": [
    "**1.1. Load historical Forex data**\n"
   ]
  },
  {
   "cell_type": "markdown",
   "metadata": {},
   "source": [
    "**NOTE**:\n",
    "- **Date Format**: DD/MM/YY. (FOR 1 MINUTE INTERVAL: YYYY-MM-DD HH:MM:SS)\n",
    "- **Interval**: 1d = 1 day, 1m = 1 minutes (YAHOO FINANCE ONLY SUPPLY DATA FOR THE LAST **7 DAYS** OF 1 MINUTE INTERVAL DATA) "
   ]
  },
  {
   "cell_type": "markdown",
   "metadata": {},
   "source": [
    "**MY API KEY**"
   ]
  },
  {
   "cell_type": "code",
   "execution_count": 12,
   "metadata": {},
   "outputs": [
    {
     "name": "stderr",
     "output_type": "stream",
     "text": [
      "[*********************100%***********************]  1 of 1 completed"
     ]
    },
    {
     "name": "stdout",
     "output_type": "stream",
     "text": [
      "                Datetime      Open      High       Low     Close  Adj Close  \\\n",
      "0    2024-09-10 00:00:00  1.103997  1.103997  1.103997  1.103997   1.103997   \n",
      "1    2024-09-10 00:01:00  1.104118  1.104118  1.104118  1.104118   1.104118   \n",
      "2    2024-09-10 00:02:00  1.104118  1.104118  1.104118  1.104118   1.104118   \n",
      "3    2024-09-10 00:03:00  1.103997  1.103997  1.103997  1.103997   1.103997   \n",
      "4    2024-09-10 00:04:00  1.103997  1.103997  1.103997  1.103997   1.103997   \n",
      "..                   ...       ...       ...       ...       ...        ...   \n",
      "995  2024-09-10 16:55:00  1.102779  1.102779  1.102779  1.102779   1.102779   \n",
      "996  2024-09-10 16:56:00  1.102901  1.102901  1.102901  1.102901   1.102901   \n",
      "997  2024-09-10 16:57:00  1.102901  1.102901  1.102901  1.102901   1.102901   \n",
      "998  2024-09-10 16:58:00  1.102901  1.102901  1.102901  1.102901   1.102901   \n",
      "999  2024-09-10 16:59:00  1.102901  1.102901  1.102901  1.102901   1.102901   \n",
      "\n",
      "     Volume  \n",
      "0         0  \n",
      "1         0  \n",
      "2         0  \n",
      "3         0  \n",
      "4         0  \n",
      "..      ...  \n",
      "995       0  \n",
      "996       0  \n",
      "997       0  \n",
      "998       0  \n",
      "999       0  \n",
      "\n",
      "[1000 rows x 7 columns]\n"
     ]
    },
    {
     "name": "stderr",
     "output_type": "stream",
     "text": [
      "\n"
     ]
    }
   ],
   "source": [
    "data = yf.download('EURUSD=X', start = '2024-09-10', end = '2024-09-17', interval='1m') \n",
    "data.reset_index(inplace=True)\n",
    "\n",
    "\n",
    "# Format the DateTime column\n",
    "data['Datetime'] = data['Datetime'].dt.strftime('%Y-%m-%d %H:%M:%S')\n",
    "\n",
    "#display the data:\n",
    "print(data.head(1000))\n",
    "\n",
    "# Directory path\n",
    "directory = r'..\\TEST_API'\n",
    "\n",
    "# Create the directory if it doesn't exist\n",
    "if not os.path.exists(directory):\n",
    "    os.makedirs(directory)\n",
    "\n",
    "# Save the DataFrame to a CSV file\n",
    "file_path = os.path.join(directory, 'EURUSD_data_price.csv')\n",
    "data.to_csv(file_path, index=False)"
   ]
  }
 ],
 "metadata": {
  "kernelspec": {
   "display_name": "base",
   "language": "python",
   "name": "python3"
  },
  "language_info": {
   "codemirror_mode": {
    "name": "ipython",
    "version": 3
   },
   "file_extension": ".py",
   "mimetype": "text/x-python",
   "name": "python",
   "nbconvert_exporter": "python",
   "pygments_lexer": "ipython3",
   "version": "3.12.4"
  }
 },
 "nbformat": 4,
 "nbformat_minor": 2
}
